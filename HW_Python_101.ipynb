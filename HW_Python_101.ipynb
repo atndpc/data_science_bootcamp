{
  "nbformat": 4,
  "nbformat_minor": 0,
  "metadata": {
    "colab": {
      "provenance": []
    },
    "kernelspec": {
      "name": "python3",
      "display_name": "Python 3"
    },
    "language_info": {
      "name": "python"
    }
  },
  "cells": [
    {
      "cell_type": "code",
      "execution_count": null,
      "metadata": {
        "id": "cZdiwURXiKs9",
        "colab": {
          "base_uri": "https://localhost:8080/"
        },
        "outputId": "9811ae45-5f86-4afe-ebf3-046d5f562453"
      },
      "outputs": [
        {
          "output_type": "stream",
          "name": "stdout",
          "text": [
            "Hi!, What's your name? A.T.\n",
            "Hello A.T.\n",
            "How many Pizza do you want? A.T.\n",
            "your input the wrong class please type again\n",
            "How many Pizza do you want? 2\n",
            "Ok! A.T. price for 2 Pizza is 200 bahts\n"
          ]
        }
      ],
      "source": [
        "# HW01 - Chatbot Order Pizza\n",
        "def chatbot():\n",
        "    name = input(\"Hi!, What's your name? \")\n",
        "    print(f\"Hello {name}\")\n",
        "    x = 1\n",
        "    while (x == 1):\n",
        "        order = input(\"How many Pizza do you want? \")\n",
        "        try:\n",
        "            print(\"Ok! \" + name + \" price for \" + order + \" Pizza is \" + str((int (order) *100)) + \" bahts\")\n",
        "            x = x + 1\n",
        "        except:\n",
        "            print(\"your input the wrong class please type again\")\n",
        "\n",
        "chatbot()"
      ]
    },
    {
      "cell_type": "code",
      "source": [
        "# HW02 - Pao Ying Chub\n",
        "import random as rd\n",
        "def pao_ying_chub():\n",
        "    print(\"Let's play Pao Ying Chub game\")\n",
        "    print(\"Who's got 3 scores first will be the winner\")\n",
        "    print(\"Type exit if you want to quit\")\n",
        "    print(\"Choose one option\")\n",
        "    print(\"h = hammer, s = scissor, p = paper\")\n",
        "    user_sc = 0\n",
        "    com_sc = 0\n",
        "    user_ch = \"0\"\n",
        "    while (user_sc < 3 and com_sc < 3):\n",
        "        user_ch = input(\"What is your choice? \")\n",
        "\n",
        "        # choice right play game\n",
        "        if (user_ch == \"h\" or user_ch == \"s\" or user_ch == \"p\"):\n",
        "            if(user_ch == \"h\"):   user_ch = \"hammer\"\n",
        "            elif(user_ch == \"s\"): user_ch = \"scissor\"\n",
        "            elif(user_ch == \"p\"): user_ch = \"paper\"\n",
        "            com_ch = rd.choice([\"hammer\", \"scissor\", \"paper\"])\n",
        "            print(f\"Your choice : {user_ch} and computer choice : {com_ch}\")\n",
        "\n",
        "            # you win\n",
        "            if ((user_ch == \"hammer\" and com_ch == \"scissor\")\n",
        "            or (user_ch == \"scissor\" and com_ch == \"paper\")\n",
        "            or (user_ch == \"paper\" and com_ch == \"hammer\")):\n",
        "                user_sc = user_sc + 1\n",
        "                print(\"yes!\")\n",
        "                print(f\"Now your score : {user_sc} and computer score : {com_sc}\")\n",
        "\n",
        "            # you lose\n",
        "            if ((user_ch == \"hammer\" and com_ch == \"paper\")\n",
        "            or (user_ch == \"scissor\" and com_ch == \"hammer\")\n",
        "            or (user_ch == \"paper\" and com_ch == \"scissor\")):\n",
        "                com_sc = com_sc + 1\n",
        "                print(\"no!\")\n",
        "                print(f\"Now your score : {user_sc} and computer score : {com_sc}\")\n",
        "\n",
        "            # you tie\n",
        "            if ((user_ch == \"hammer\" and com_ch == \"hammer\")\n",
        "            or (user_ch == \"scissor\" and com_ch == \"scissor\")\n",
        "            or (user_ch == \"paper\" and com_ch == \"paper\")):\n",
        "                print(\"ok!\")\n",
        "                print(f\"Now your score : {user_sc} and computer score : {com_sc}\")\n",
        "\n",
        "        # choice wrong type again\n",
        "        else: print(\"your choice is not right please type again\")\n",
        "\n",
        "    # summary\n",
        "    if(user_sc > com_sc):\n",
        "        print(\"Congrats You win 😄\")\n",
        "    else:\n",
        "        print(\"Sorry! You lose 😭\")\n",
        "\n",
        "pao_ying_chub()"
      ],
      "metadata": {
        "id": "17YMyrxKjkUA"
      },
      "execution_count": null,
      "outputs": []
    },
    {
      "cell_type": "code",
      "source": [
        "# HW03 - create new ATM class\n",
        "# ฝากเงิน, ถอนเงิน, ขอ OTP\n",
        "class ATM:\n",
        "    def __init__(self, name, bank, balance):\n",
        "        self.name = name\n",
        "        self.bank = bank\n",
        "        self.balance = balance\n",
        "\n",
        "    def deposit(self, amt):\n",
        "        self.balance += amt\n",
        "    def withdraw(self, wtd):\n",
        "        self.balance -= wtd\n",
        "    def otp(self):\n",
        "        print(str(rd.choice(range(0, 10))) + \\\n",
        "        str(rd.choice(range(0, 10))) + \\\n",
        "        str(rd.choice(range(0, 10))) + \\\n",
        "        str(rd.choice(range(0, 10))) + \\\n",
        "        str(rd.choice(range(0, 10))) + \\\n",
        "        str(rd.choice(range(0, 10))))"
      ],
      "metadata": {
        "id": "yke1cW9WyCAh"
      },
      "execution_count": null,
      "outputs": []
    },
    {
      "cell_type": "code",
      "source": [
        "kbank_at = ATM(\"A.T.\", \"kbank\", 100000000)"
      ],
      "metadata": {
        "id": "m_UGdRtj8HVX"
      },
      "execution_count": null,
      "outputs": []
    },
    {
      "cell_type": "code",
      "source": [
        "kbank_at.otp()"
      ],
      "metadata": {
        "colab": {
          "base_uri": "https://localhost:8080/"
        },
        "id": "SAFoXdAW8vfW",
        "outputId": "40197ca4-7d76-49dd-b8c7-4119b254a82a"
      },
      "execution_count": null,
      "outputs": [
        {
          "output_type": "stream",
          "name": "stdout",
          "text": [
            "779937\n"
          ]
        }
      ]
    },
    {
      "cell_type": "code",
      "source": [],
      "metadata": {
        "id": "I321orqv-tFi"
      },
      "execution_count": null,
      "outputs": []
    }
  ]
}