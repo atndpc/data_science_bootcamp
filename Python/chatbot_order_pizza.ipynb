# HW01 - Chatbot Order Pizza
def chatbot():
    name = input("Hi!, What's your name? ")
    print(f"Hello {name}")
    x = 1
    while (x == 1):
        order = input("How many Pizza do you want? ")
        try:
            print("Ok! " + name + " price for " + order + " Pizza is " + str((int (order) *100)) + " bahts")
            x = x + 1
        except:
            print("your input the wrong class please type again")

chatbot()
